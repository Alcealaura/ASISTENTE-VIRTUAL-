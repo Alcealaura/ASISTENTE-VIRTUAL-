{
 "cells": [
  {
   "cell_type": "code",
   "execution_count": 1,
   "metadata": {},
   "outputs": [],
   "source": [
    "import nltk\n",
    "import numpy as np\n",
    "import random\n",
    "import string\n",
    "import pyttsx3"
   ]
  },
  {
   "cell_type": "markdown",
   "metadata": {},
   "source": [
    "# Definición del corpus"
   ]
  },
  {
   "cell_type": "code",
   "execution_count": 2,
   "metadata": {},
   "outputs": [],
   "source": [
    "f = open(r'C:\\Users\\ALCEA\\1_DTSC\\_Proyectos\\ASISTENTE VIRTUAL EMMA\\Corpus juguetería.txt','r',errors = 'ignore')\n",
    "raw = f.read()"
   ]
  },
  {
   "cell_type": "markdown",
   "metadata": {},
   "source": [
    "# Preprocesamiento del texto con NTLK CORPUS"
   ]
  },
  {
   "cell_type": "code",
   "execution_count": 3,
   "metadata": {},
   "outputs": [],
   "source": [
    "raw = raw.lower() # Conversión en minúscula\n",
    "sent_tokens = nltk.sent_tokenize(raw) # Conversión del corpus en una lista de sentencias\n",
    "word_tokens = nltk.word_tokenize(raw) # Conversión del corpus en una lista de palabras\n",
    "lemmer = nltk.stem.WordNetLemmatizer()\n",
    "\n",
    "# WordNet: diccionario semántico incluido en NLTK\n",
    "def LemTokens(tokens): # Función para lematizar cada token\n",
    "    return [lemmer.lemmatize(token) for token in tokens]\n",
    "\n",
    "remove_punct_dict = dict((ord(punct), None) for punct in string.punctuation) # Variable para la eliminación de los signos de puntuación\n",
    "def LemNormalize(text): # Función para eliminar los signos de puntuación del texto en minúscula y tokenizarlo \n",
    "    return LemTokens(nltk.word_tokenize(text.lower().translate(remove_punct_dict)))"
   ]
  },
  {
   "cell_type": "markdown",
   "metadata": {},
   "source": [
    "# Preprocesamiento del texto y evaluación de la similitud entre el mensaje del usuario y el corpus"
   ]
  },
  {
   "cell_type": "code",
   "execution_count": 4,
   "metadata": {},
   "outputs": [],
   "source": [
    "from sklearn.feature_extraction.text import TfidfVectorizer\n",
    "from sklearn.metrics.pairwise import cosine_similarity\n",
    "from nltk.corpus import stopwords\n",
    "\n",
    "# Función para determinar la similitud del texto insertado y el corpus\n",
    "def response(user_response):\n",
    "    robo_response = ''\n",
    "    sent_tokens.append(user_response) # Añade la respuesta de usuario al final del corpus (para poder evaluar la similitud) \n",
    "    TfidfVec = TfidfVectorizer(tokenizer = LemNormalize, stop_words = stopwords.words('spanish')) # Convierte las frases en vector\n",
    "    tfidf = TfidfVec.fit_transform(sent_tokens)\n",
    "    # Evaluación de la similitud de coseno entre el mensaje del usuario (tfidf[-1]) y el corpus (tfidf)\n",
    "    vals = cosine_similarity(tfidf[-1], tfidf)\n",
    "    idx = vals.argsort()[0][-2]\n",
    "    flat = vals.flatten()\n",
    "    flat.sort()\n",
    "    req_tfidf = flat[-2] # Devuelve el vector del corpus que más se aproxima al mensaje del usuario\n",
    "    \n",
    "    if(req_tfidf==0): # Ningún vector del corpus se aproxima al mensaje del usuario\n",
    "        robo_response = robo_response+\"Lo siento, no te he entendido. Si no puedo responder a lo que necesitas, ponte en contacto con soporte@juguetesb&b.es\"\n",
    "        return robo_response\n",
    "\n",
    "    else:\n",
    "        robo_response = robo_response+sent_tokens[idx]\n",
    "        return robo_response"
   ]
  },
  {
   "cell_type": "markdown",
   "metadata": {},
   "source": [
    "# Definición de coincidencias manual"
   ]
  },
  {
   "cell_type": "code",
   "execution_count": 5,
   "metadata": {},
   "outputs": [],
   "source": [
    "SALUDOS_INPUTS = [\"hola\", \"buenas\", \"saludos\", \"qué tal\", \"hey\", \"buenos días\", \"¡hola!\", \"hola!\"]\n",
    "SALUDOS_OUTPUTS = [\"Hola, ¿en qué puedo ayudarte?\"]\n",
    "\n",
    "def saludos(sentence):\n",
    "    for word in sentence.split():\n",
    "        if word.lower() in SALUDOS_INPUTS:\n",
    "            return random.choice(SALUDOS_OUTPUTS)"
   ]
  },
  {
   "cell_type": "markdown",
   "metadata": {},
   "source": [
    "# Definición del sintetizador de voz"
   ]
  },
  {
   "cell_type": "code",
   "execution_count": 6,
   "metadata": {},
   "outputs": [],
   "source": [
    "engine = pyttsx3.init()\n",
    "engine.setProperty('rate', 150)    # Aquí se puede seleccionar la velocidad de la voz\n",
    "engine.setProperty('voice', 'spanish')\n",
    "def habla(texto):\n",
    "    engine.say(texto)\n",
    "    engine.runAndWait()"
   ]
  },
  {
   "cell_type": "markdown",
   "metadata": {},
   "source": [
    "# Generación de respuesta"
   ]
  },
  {
   "cell_type": "code",
   "execution_count": 7,
   "metadata": {},
   "outputs": [
    {
     "name": "stdout",
     "output_type": "stream",
     "text": [
      "EMMA: Mi nombre es Emma y contestaré encantada a todas tus preguntas acerca del sitio web de JUGUETES B & B. Si quieres salir, escribe 'Salir' \n"
     ]
    },
    {
     "name": "stdin",
     "output_type": "stream",
     "text": [
      " ¡Hola!\n"
     ]
    },
    {
     "name": "stdout",
     "output_type": "stream",
     "text": [
      "EMMA: Hola, ¿en qué puedo ayudarte?\n"
     ]
    },
    {
     "name": "stdin",
     "output_type": "stream",
     "text": [
      " ¿De qué opciones de envío dispongo?\n"
     ]
    },
    {
     "name": "stdout",
     "output_type": "stream",
     "text": [
      "EMMA: en juguetes b & b dispones de varias opciones de envío de tu pedido: click and collect, entrega económica, entrega estándar, entrega en punto de recogida y entrega exprés.\n"
     ]
    },
    {
     "name": "stdin",
     "output_type": "stream",
     "text": [
      " ¿Dónde puedo recoger mi pedido Click and Collect?\n"
     ]
    },
    {
     "name": "stdout",
     "output_type": "stream",
     "text": [
      "EMMA: los pedidos click and collect se pueden recoger en cualquiera de nuestras tiendas.\n"
     ]
    },
    {
     "name": "stdin",
     "output_type": "stream",
     "text": [
      " ¿Cuáles son los gastos de envío de la opción Click and Collect?\n"
     ]
    },
    {
     "name": "stdout",
     "output_type": "stream",
     "text": [
      "EMMA: los gastos de envío de la opción click and collect son gratuitos.\n"
     ]
    },
    {
     "name": "stdin",
     "output_type": "stream",
     "text": [
      " ¿Cuál es el plazo de entrega de los pedidos Click and Collect?\n"
     ]
    },
    {
     "name": "stdout",
     "output_type": "stream",
     "text": [
      "EMMA: el plazo de entrega de la opción click and collect es de 2 horas (tiempo de preparación).\n"
     ]
    },
    {
     "name": "stdin",
     "output_type": "stream",
     "text": [
      " ¿Cómo sabré si mi pedido está listo para la recogida en tienda?\n"
     ]
    },
    {
     "name": "stdout",
     "output_type": "stream",
     "text": [
      "EMMA: con la opción click and collect, cuando tu pedido esté listo para la recogida en tienda, te enviaremos un email para avisarte.\n"
     ]
    },
    {
     "name": "stdin",
     "output_type": "stream",
     "text": [
      " ¿Qué debo presentar para poder recoger mi pedido en tienda?\n"
     ]
    },
    {
     "name": "stdout",
     "output_type": "stream",
     "text": [
      "EMMA: para poder recoger el pedido en tienda, será necesario que presentes tu email de confirmación y tu documento identificativo (tanto si eres el comprador como si acudes en nombre de otra persona).\n"
     ]
    },
    {
     "name": "stdin",
     "output_type": "stream",
     "text": [
      " ¿Cuál es el plazo para recoger los pedidos en tienda?\n"
     ]
    },
    {
     "name": "stdout",
     "output_type": "stream",
     "text": [
      "EMMA: el plazo para recoger los pedidos en tienda es de 7 días naturales desde la notificación por email de que se encuentran disponibles.\n"
     ]
    },
    {
     "name": "stdin",
     "output_type": "stream",
     "text": [
      " ¿Qué ocurre si no recojo mi pedido en el plazo de 7 días?\n"
     ]
    },
    {
     "name": "stdout",
     "output_type": "stream",
     "text": [
      "EMMA: si no recoges el pedido en tienda en el plazo indicado (7 días), el pedido se cancelará y se te devolverá el dinero mediante la misma forma de pago empleada al hacerlo.\n"
     ]
    },
    {
     "name": "stdin",
     "output_type": "stream",
     "text": [
      " ¿Cuánto tardan en llegar los pedidos con entrega económica?\n"
     ]
    },
    {
     "name": "stdout",
     "output_type": "stream",
     "text": [
      "EMMA: los pedidos con entrega económica tardan en llegar 3-5 días laborables aproximadamente.\n"
     ]
    },
    {
     "name": "stdin",
     "output_type": "stream",
     "text": [
      " ¿Cómo puedo comprobar el estado de mi pedido?\n"
     ]
    },
    {
     "name": "stdout",
     "output_type": "stream",
     "text": [
      "EMMA: te enviaremos un número de seguimiento con el que podrás comprobar el estado de tu pedido desde tu cuenta o el sitio web de la compañía de transporte encargada de realizar el envío (correos o seur).\n"
     ]
    },
    {
     "name": "stdin",
     "output_type": "stream",
     "text": [
      " No se ofrece la opción de entrega económica para mi pedido, ¿por qué?\n"
     ]
    },
    {
     "name": "stdout",
     "output_type": "stream",
     "text": [
      "EMMA: si tu producto pesa más de 20 kg, no se ofrecerá la opción de entrega económica al tramitar el pedido.\n"
     ]
    },
    {
     "name": "stdin",
     "output_type": "stream",
     "text": [
      " ¿Cuánto tardan en llegar los pedidos con entrega estándar?\n"
     ]
    },
    {
     "name": "stdout",
     "output_type": "stream",
     "text": [
      "EMMA: todos los pedidos con entrega estándar en la península realizados de domingo a jueves tardan en llegar 2-3 días.\n"
     ]
    },
    {
     "name": "stdin",
     "output_type": "stream",
     "text": [
      " ¿Cuáles son los gastos de envío para la entrega estándar?\n"
     ]
    },
    {
     "name": "stdout",
     "output_type": "stream",
     "text": [
      "EMMA: los gastos de envío para la entrega estándar son gratuitos para pedidos superiores a 40 €.\n"
     ]
    },
    {
     "name": "stdin",
     "output_type": "stream",
     "text": [
      " ¿Y si mi pedido cuesta menos de 40 €?\n"
     ]
    },
    {
     "name": "stdout",
     "output_type": "stream",
     "text": [
      "EMMA: para pedidos de menos de 40 €, los gastos de envío de la entrega estándar dependerán del peso y de las dimensiones totales del artículo y se calcularán automáticamente durante el proceso de pago antes de finalizar el pedido.\n"
     ]
    },
    {
     "name": "stdin",
     "output_type": "stream",
     "text": [
      " ¿Cuál es el plazo de la entrega exprés?\n"
     ]
    },
    {
     "name": "stdout",
     "output_type": "stream",
     "text": [
      "EMMA: el plazo de la entrega exprés es de 3 horas (si no se han superado las 19:00 h de ese día).\n"
     ]
    },
    {
     "name": "stdin",
     "output_type": "stream",
     "text": [
      " ¿Y puedo elegir otro horario para entrega exprés?\n"
     ]
    },
    {
     "name": "stdout",
     "output_type": "stream",
     "text": [
      "EMMA: con la opción de entrega exprés, como alternativa al plazo de entrega en 3 horas, puedes elegir la entrega en la franja horaria que tú quieras de hoy o de mañana.\n"
     ]
    },
    {
     "name": "stdin",
     "output_type": "stream",
     "text": [
      " ¿Puedo hacer un pedido con entrega exprés un domingo?\n"
     ]
    },
    {
     "name": "stdout",
     "output_type": "stream",
     "text": [
      "EMMA: la opción exprés no admite entregas en domingo o festivo.\n"
     ]
    },
    {
     "name": "stdin",
     "output_type": "stream",
     "text": [
      " ¿Puedo seguir el estado de mi pedido con la entrega exprés?\n"
     ]
    },
    {
     "name": "stdout",
     "output_type": "stream",
     "text": [
      "EMMA: con la opción de entrega exprés, cuando el transportista tenga tu pedido, te enviaremos un email y sms para que puedas seguir el envío en tiempo real hasta la entrega.\n"
     ]
    },
    {
     "name": "stdin",
     "output_type": "stream",
     "text": [
      " ¿Y si no estoy en mi domicilio para recibir el pedido?\n"
     ]
    },
    {
     "name": "stdout",
     "output_type": "stream",
     "text": [
      "EMMA: si no puedes recibir tu pedido a tu domicilio o lugar de trabajo, puedes escoger la entrega en un punto de recogida de tu elección para ir a buscarlo cuando más te convenga.\n"
     ]
    },
    {
     "name": "stdin",
     "output_type": "stream",
     "text": [
      " ¿Dónde puedo consultar los puntos de recogida disponibles?\n"
     ]
    },
    {
     "name": "stdout",
     "output_type": "stream",
     "text": [
      "EMMA: cuando selecciones la entrega en punto de recogida, introduce tu código postal para conocer los puntos de recogida disponibles y su horario.\n"
     ]
    },
    {
     "name": "stdin",
     "output_type": "stream",
     "text": [
      " ¿Qué debo presentar para retirar mi pedido del punto de recogida?\n"
     ]
    },
    {
     "name": "stdout",
     "output_type": "stream",
     "text": [
      "EMMA: para poder retirar tu pedido del punto de recogida, necesitarás presentar un documento de identidad con un nombre que coincida con el nombre en el paquete.\n"
     ]
    },
    {
     "name": "stdin",
     "output_type": "stream",
     "text": [
      " ¿Puede acudir otra persona en mi nombre al punto de recogida?\n"
     ]
    },
    {
     "name": "stdout",
     "output_type": "stream",
     "text": [
      "EMMA: si no puedes acudir al punto de recogida, podrá ir otra persona en tu nombre con una autorización y fotocopia del dni del destinatario de la entrega.\n"
     ]
    },
    {
     "name": "stdin",
     "output_type": "stream",
     "text": [
      " ¿Cuántos días estará el pedido en el punto de recogida?\n"
     ]
    },
    {
     "name": "stdout",
     "output_type": "stream",
     "text": [
      "EMMA: dispones de un plazo de 10 días naturales tras la entrega en el punto de recogida para retirar tu pedido.\n"
     ]
    },
    {
     "name": "stdin",
     "output_type": "stream",
     "text": [
      " La opción de entrega en punto de recogida no está disponible para mi pedido, ¿por qué?\n"
     ]
    },
    {
     "name": "stdout",
     "output_type": "stream",
     "text": [
      "EMMA: la entrega en puntos de recogida no está disponible para ceuta y melilla.\n"
     ]
    },
    {
     "name": "stdin",
     "output_type": "stream",
     "text": [
      " ¿De qué opciones de pago dispongo en la tienda online?\n"
     ]
    },
    {
     "name": "stdout",
     "output_type": "stream",
     "text": [
      "EMMA: juguetes b & b te ofrece diversas opciones de pago para tus compras online: tarjeta de crédito o débito; paypal; tarjeta regalo; dinero del club del programa de fidelización.\n"
     ]
    },
    {
     "name": "stdin",
     "output_type": "stream",
     "text": [
      " ¿Puedo utilizar mis cupones para las compras online?\n"
     ]
    },
    {
     "name": "stdout",
     "output_type": "stream",
     "text": [
      "EMMA: los cupones de descuento se pueden usar en tiendas físicas o en tienda online.\n"
     ]
    },
    {
     "name": "stdin",
     "output_type": "stream",
     "text": [
      " ¿Puedo pagar con una tarjeta de crédito Euro 6000?\n"
     ]
    },
    {
     "name": "stdout",
     "output_type": "stream",
     "text": [
      "EMMA: las compras en nuestra tienda online se pueden pagar con tarjetas visa, mastercard, 4b, euro 6000 o maestro española.\n"
     ]
    },
    {
     "name": "stdin",
     "output_type": "stream",
     "text": [
      " ¿Cuándo se cargará el importe de la compra en la tarjeta?\n"
     ]
    },
    {
     "name": "stdout",
     "output_type": "stream",
     "text": [
      "EMMA: el importe no se cargará en tu tarjeta de crédito o débito hasta el envío de tus compras, momento en el que te remitiremos un email con información de seguimiento de tu pedido.\n"
     ]
    },
    {
     "name": "stdin",
     "output_type": "stream",
     "text": [
      " En el extracto de la tarjeta aparece un cargo a pesar de que aún no he recibido mi pedido\n"
     ]
    },
    {
     "name": "stdout",
     "output_type": "stream",
     "text": [
      "EMMA: puede que en los extractos de la tarjeta de crédito o débito aparezca un cargo: el banco reservará la cantidad correspondiente al importe de tu pedido hasta que se produzca el pago, pero no se trata de un cobro.\n"
     ]
    },
    {
     "name": "stdin",
     "output_type": "stream",
     "text": [
      " ¿Puedo utilizar tarjetas regalo en la tienda online?\n"
     ]
    },
    {
     "name": "stdout",
     "output_type": "stream",
     "text": [
      "EMMA: en la web de juguetes b & b puedes pagar con las tarjetas regalo adquiridas en tienda física (una tarjeta por pedido).\n"
     ]
    },
    {
     "name": "stdin",
     "output_type": "stream",
     "text": [
      " ¿Qué ocurre si el saldo de mi tarjeta regalo es insuficiente para pagar mi compra?\n"
     ]
    },
    {
     "name": "stdout",
     "output_type": "stream",
     "text": [
      "EMMA: si el importe de tu pedido es superior al saldo de tu tarjeta regalo, tendrás que facilitarnos otra forma de pago para el importe restante.\n"
     ]
    },
    {
     "name": "stdin",
     "output_type": "stream",
     "text": [
      " ¿Puedo devolver los artículos pagados con una tarjeta regalo?\n"
     ]
    },
    {
     "name": "stdout",
     "output_type": "stream",
     "text": [
      "EMMA: si has comprado artículos con una tarjeta regalo, deberás conservar la tarjeta hasta 30 días después de la compra, ya que ese es el plazo de devolución.\n"
     ]
    },
    {
     "name": "stdin",
     "output_type": "stream",
     "text": [
      " Estoy intentando pagar mi compra online con dinero del club, pero no puedo, ¿por qué?\n"
     ]
    },
    {
     "name": "stdout",
     "output_type": "stream",
     "text": [
      "EMMA: para poder pagar con el dinero del club en la tienda online, tendrás que haberte registrado previamente, de modo que puedas aplicarlo en el carrito de la compra.\n"
     ]
    },
    {
     "name": "stdin",
     "output_type": "stream",
     "text": [
      " ¿Puedo devolver un pedido pagado con el dinero del club?\n"
     ]
    },
    {
     "name": "stdout",
     "output_type": "stream",
     "text": [
      "EMMA: en el caso de que devuelvas tu pedido o este sea anulado, el dinero del club canjeado volverá a tu cuenta.\n"
     ]
    },
    {
     "name": "stdin",
     "output_type": "stream",
     "text": [
      " ¿Los cupones son acumulables a otras ofertas?\n"
     ]
    },
    {
     "name": "stdout",
     "output_type": "stream",
     "text": [
      "EMMA: los cupones no son acumulables y no son compatibles con otras promociones, cupones u ofertas especiales.\n"
     ]
    },
    {
     "name": "stdin",
     "output_type": "stream",
     "text": [
      " ¿Cuántos cupones puedo utilizar en cada compra?\n"
     ]
    },
    {
     "name": "stdout",
     "output_type": "stream",
     "text": [
      "EMMA: solamente se puede utilizar un cupón por compra.\n"
     ]
    },
    {
     "name": "stdin",
     "output_type": "stream",
     "text": [
      " Mi cupón de descuento no se aplica, ¿por qué?\n"
     ]
    },
    {
     "name": "stdout",
     "output_type": "stream",
     "text": [
      "EMMA: si un cupón de descuento no se aplica inmediatamente, puede que tarde 24 horas en activarse: por favor, prueba al día siguiente.\n"
     ]
    },
    {
     "name": "stdin",
     "output_type": "stream",
     "text": [
      " ¿Cuántos días tengo para devolver un artículo comprado online?\n"
     ]
    },
    {
     "name": "stdout",
     "output_type": "stream",
     "text": [
      "EMMA: dispones de un plazo de 14 días naturales para devolver los productos que hayas comprado desde la recepción de los mismos sin necesidad de justificación.\n"
     ]
    },
    {
     "name": "stdin",
     "output_type": "stream",
     "text": [
      " ¿Cuándo se hará efectivo el reembolso del dinero?\n"
     ]
    },
    {
     "name": "stdout",
     "output_type": "stream",
     "text": [
      "EMMA: el reembolso tardará en hacerse efectivo, como máximo, 14 días desde que solicites la tramitación de la devolución del artículo en cuestión.\n"
     ]
    },
    {
     "name": "stdin",
     "output_type": "stream",
     "text": [
      " ¿Se puede cambiar la ropa interior?\n"
     ]
    },
    {
     "name": "stdout",
     "output_type": "stream",
     "text": [
      "EMMA: por razones de higiene, no aceptamos cambios de ropa interior, pañales, biberones y similares.\n"
     ]
    },
    {
     "name": "stdin",
     "output_type": "stream",
     "text": [
      " ¿De qué opciones dispongo para devolver un producto?\n"
     ]
    },
    {
     "name": "stdout",
     "output_type": "stream",
     "text": [
      "EMMA: dispones de varias opciones para devolver un producto: devolución gratuita en tienda, devolución gratuita en oficina de correos o recogida gratuita a domicilio, devolución con correos, devolución con seur a través del servicio de atención al cliente para productos voluminosos.\n"
     ]
    },
    {
     "name": "stdin",
     "output_type": "stream",
     "text": [
      " ¿Qué ocurre si mi pedido llega tarde?\n"
     ]
    },
    {
     "name": "stdout",
     "output_type": "stream",
     "text": [
      "EMMA: si devuelves un artículo porque nos hemos equivocado, está dañado o el pedido ha llegado tarde, te reembolsaremos el precio del artículo, incluidos los gastos de envío y los impuestos aplicados.\n"
     ]
    },
    {
     "name": "stdin",
     "output_type": "stream",
     "text": [
      " He solicitado la devolución de un producto, pero aún no he recibido el reembolso, ¿por qué?\n"
     ]
    },
    {
     "name": "stdout",
     "output_type": "stream",
     "text": [
      "EMMA: en caso de devolución, podremos retener el reembolso hasta haber recibido el producto o hasta que presentes una prueba de su devolución, según qué condición se cumpla primero.\n"
     ]
    },
    {
     "name": "stdin",
     "output_type": "stream",
     "text": [
      " ¿Cómo puedo comprobar el estado de la devolución de mi pedido?\n"
     ]
    },
    {
     "name": "stdout",
     "output_type": "stream",
     "text": [
      "EMMA: para comprobar el estado de la devolución de tu pedido, ponte en contacto con el servicio de atención al cliente en teléfono 33 333 33 33: tendrás que facilitar el número de pedido y el número de seguimiento de la devolución.\n"
     ]
    },
    {
     "name": "stdin",
     "output_type": "stream",
     "text": [
      " Me gustaría devolver un producto, pero he perdido el albarán\n"
     ]
    },
    {
     "name": "stdout",
     "output_type": "stream",
     "text": [
      "EMMA: si has comprado un artículo que quieres devolver, pero no encuentras el albarán de entrega, ponte en contacto con nuestro servicio de atención al cliente en el teléfono 33 333 33 33: te pediremos que proporciones el número de pedido correspondiente que aparece en el email de confirmación de pedido para enviarte un duplicado del albarán.\n"
     ]
    },
    {
     "name": "stdin",
     "output_type": "stream",
     "text": [
      " ¿Y si no estoy en casa en el momento de la entrega?\n"
     ]
    },
    {
     "name": "stdout",
     "output_type": "stream",
     "text": [
      "EMMA: el transportista intentará entregar tu compra en la dirección indicada al realizar el pedido: si no estás disponible en el momento de la entrega, el transportista dejará un aviso en tu puerta comunicándote el intento de entrega o tratará de concertar una nueva cita para la entrega.\n"
     ]
    },
    {
     "name": "stdin",
     "output_type": "stream",
     "text": [
      " He recibido un producto defectuoso\n"
     ]
    },
    {
     "name": "stdout",
     "output_type": "stream",
     "text": [
      "EMMA: en caso de que el producto recibido por el cliente esté dañado o sea defectuoso por causa no imputable al mismo, juguetes b & b procederá a la reparación, sustitución o devolución del importe, según proceda, durante los dos años siguientes a su fecha de adquisición.\n"
     ]
    },
    {
     "name": "stdin",
     "output_type": "stream",
     "text": [
      " ¿Y cuáles son los síntomas de la COVID-19?\n"
     ]
    },
    {
     "name": "stdout",
     "output_type": "stream",
     "text": [
      "EMMA: Lo siento, no te he entendido. Si no puedo responder a lo que necesitas, ponte en contacto con soporte@juguetesb&b.es\n"
     ]
    },
    {
     "name": "stdin",
     "output_type": "stream",
     "text": [
      " Muchas gracias\n"
     ]
    },
    {
     "name": "stdout",
     "output_type": "stream",
     "text": [
      "EMMA: De nada\n"
     ]
    },
    {
     "name": "stdin",
     "output_type": "stream",
     "text": [
      " Salir\n"
     ]
    },
    {
     "name": "stdout",
     "output_type": "stream",
     "text": [
      "EMMA: Espero volver a verte por aquí, ¡hasta pronto!\n"
     ]
    }
   ],
   "source": [
    "flag = True\n",
    "print(\"EMMA: Mi nombre es Emma y contestaré encantada a todas tus preguntas acerca del sitio web de JUGUETES B & B. Si quieres salir, escribe 'Salir' \")\n",
    "habla(\"Mi nombre es Emma y contestaré encantada a todas tus preguntas acerca del sitio web de JUGUETES B & B. Si quieres salir, escribe 'Salir' \")\n",
    "while(flag==True):\n",
    "    user_response = input()\n",
    "    user_response = user_response.lower() # Convertimos a minúscula\n",
    "    \n",
    "    if(user_response!='salir'):\n",
    "        \n",
    "        if(user_response=='gracias' or user_response=='muchas gracias'): # Se podría haber definido otra función de coincidencia manual\n",
    "            flag=True\n",
    "            print(\"EMMA: De nada\")\n",
    "            habla(\"De nada\")\n",
    "            \n",
    "        else:\n",
    "            if(saludos(user_response)!=None): # Si la palabra insertada por el usuario es un saludo (coincidencias manuales definidas previamente)\n",
    "                print(\"EMMA: \"+saludos(user_response))\n",
    "                habla(saludos(user_response))\n",
    "                \n",
    "            else: # Si la palabra insertada no es un saludo --> CORPUS\n",
    "                print(\"EMMA: \",end=\"\") \n",
    "                print(response(user_response))\n",
    "                sent_tokens.remove(user_response) # Para eliminar del corpus la respuesta del usuario y volver a evaluar con el corpus limpio\n",
    "                habla(response(user_response))\n",
    "                sent_tokens.remove(user_response) \n",
    "    else:\n",
    "        flag=False\n",
    "        print(\"EMMA: Espero volver a verte por aquí, ¡hasta pronto!\")\n",
    "        habla(\"Espero volver a verte por aquí, ¡hasta pronto!\")"
   ]
  }
 ],
 "metadata": {
  "kernelspec": {
   "display_name": "Python 3",
   "language": "python",
   "name": "python3"
  },
  "language_info": {
   "codemirror_mode": {
    "name": "ipython",
    "version": 3
   },
   "file_extension": ".py",
   "mimetype": "text/x-python",
   "name": "python",
   "nbconvert_exporter": "python",
   "pygments_lexer": "ipython3",
   "version": "3.8.3"
  }
 },
 "nbformat": 4,
 "nbformat_minor": 4
}
